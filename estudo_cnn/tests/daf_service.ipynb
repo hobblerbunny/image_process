{
 "cells": [
  {
   "cell_type": "code",
   "execution_count": 1,
   "metadata": {},
   "outputs": [],
   "source": [
    "from estudo_cnn.daf_service_class import ReadFrameOpencv\n",
    "video_reader = ReadFrameOpencv\n",
    "video_reader.video_file = \"pelotas_teste.mp4\""
   ]
  },
  {
   "cell_type": "code",
   "execution_count": 2,
   "metadata": {},
   "outputs": [],
   "source": [
    "\"\"\"\n",
    "testing a full run\n",
    "\"\"\"\n",
    "video_reader = ReadFrameOpencv()\n",
    "video_reader.video_file = \"pelotas_teste.mp4\"\n",
    "video_reader.output_folder = \"saved_frame\"\n",
    "\n",
    "frames = video_reader.read_frames()\n",
    "\n",
    "new_color = video_reader.matrix_color(frames, \"RGB>GRAY\")\n",
    "\n",
    "sliced_frame = video_reader.slicing_frames(new_color, 4, 4)\n",
    "\n",
    "resized_image = video_reader.resize_frames(sliced_frame, 64, 64)\n",
    "\n",
    "video_reader.save_frames(resized_image)"
   ]
  },
  {
   "cell_type": "code",
   "execution_count": 3,
   "metadata": {},
   "outputs": [
    {
     "name": "stdout",
     "output_type": "stream",
     "text": [
      "[array([[149, 129, 129, 138, 116, 104, 121,  89],\n",
      "       [129, 143, 130, 143, 134, 112, 112, 144],\n",
      "       [155, 147, 135, 145, 141,  45, 143, 113],\n",
      "       [144, 156, 140,  95, 113,  28,  59,  84],\n",
      "       [113, 131, 114, 110, 115,  64, 147, 102],\n",
      "       [134, 158, 117, 120, 112,  92,  48, 113],\n",
      "       [134, 148, 165, 103, 114,  74, 147,  76],\n",
      "       [161,  87, 168, 100,  93,  49,  65,  83]], dtype=uint8)]\n"
     ]
    }
   ],
   "source": [
    "print(resized_image[0])"
   ]
  },
  {
   "cell_type": "code",
   "execution_count": 4,
   "metadata": {},
   "outputs": [],
   "source": [
    "# video_reader = ReadFrameOpencv()\n",
    "# video_reader.video_file = \"pelotas_teste.mp4\"\n",
    "# video_reader.output_folder = \"Saved_frames_1\"\n",
    "# frames = video_reader.read_frames()\n",
    "# new_frame_color = video_reader.matrix_color(frames, \"RGB>GRAY\")\n",
    "# video_reader.save_frames(new_frame_color)"
   ]
  },
  {
   "cell_type": "code",
   "execution_count": 5,
   "metadata": {},
   "outputs": [],
   "source": [
    "# print(new_frame_color[0])\n",
    "# print(type(new_frame_color[0]))"
   ]
  },
  {
   "cell_type": "code",
   "execution_count": 6,
   "metadata": {},
   "outputs": [
    {
     "data": {
      "text/plain": [
       "'\\nshape da imagem\\n'"
      ]
     },
     "execution_count": 6,
     "metadata": {},
     "output_type": "execute_result"
    }
   ],
   "source": [
    "\"\"\"\n",
    "shape da imagem\n",
    "\"\"\"\n",
    "# imagem = frames[0]\n",
    "# high, width, chann = imagem.shape\n",
    "# print(high, width, chann)\n",
    "# print(type(frames[0]))\n",
    "# print(type(new_frame_color[0]))"
   ]
  },
  {
   "cell_type": "code",
   "execution_count": 7,
   "metadata": {},
   "outputs": [],
   "source": [
    "# video_reader.slicing_frames(new_frame_color, 4, 4)"
   ]
  },
  {
   "cell_type": "code",
   "execution_count": 8,
   "metadata": {},
   "outputs": [],
   "source": [
    "# lista = video_reader.slicing_frames(new_frame_color, 4 ,4)\n",
    "# video_reader.save_frames(lista)\n",
    "# print(len(lista))\n",
    "# print(type(lista[0]))\n",
    "# print(lista[0])"
   ]
  },
  {
   "cell_type": "code",
   "execution_count": 9,
   "metadata": {},
   "outputs": [],
   "source": [
    "# reader = video_reader.read_frames()\n",
    "# new_frames = video_reader.resize_frames(reader, 8, 8)\n",
    "# video_reader.save_frames(new_frames)"
   ]
  }
 ],
 "metadata": {
  "kernelspec": {
   "display_name": "estudo-cnn-5cBn2_oW-py3.11",
   "language": "python",
   "name": "python3"
  },
  "language_info": {
   "codemirror_mode": {
    "name": "ipython",
    "version": 3
   },
   "file_extension": ".py",
   "mimetype": "text/x-python",
   "name": "python",
   "nbconvert_exporter": "python",
   "pygments_lexer": "ipython3",
   "version": "3.11.3"
  },
  "orig_nbformat": 4
 },
 "nbformat": 4,
 "nbformat_minor": 2
}
