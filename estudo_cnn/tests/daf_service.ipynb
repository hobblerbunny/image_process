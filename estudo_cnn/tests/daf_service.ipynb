{
 "cells": [
  {
   "cell_type": "code",
   "execution_count": 15,
   "metadata": {},
   "outputs": [],
   "source": [
    "import os\n",
    "import cv2"
   ]
  },
  {
   "cell_type": "code",
   "execution_count": 16,
   "metadata": {},
   "outputs": [],
   "source": [
    "class ReadFrameOpencv:\n",
    "    def __init__(self):\n",
    "        self._video_file = None\n",
    "        self._output_folder = None\n",
    "\n",
    "    @property\n",
    "    def video_file(self):\n",
    "        return self._video_file\n",
    "\n",
    "    @video_file.setter\n",
    "    def video_file(self, path):\n",
    "        self._video_file = path\n",
    "\n",
    "    @property\n",
    "    def output_folder(self):\n",
    "        return self._output_folder\n",
    "\n",
    "    @output_folder.setter\n",
    "    def output_folder(self, path):\n",
    "        self._output_folder = path\n",
    "\n",
    "    def read_frames(self):\n",
    "        if self.video_file is None:\n",
    "            raise ValueError(\"Video file path is not set.\")\n",
    "        \n",
    "        cap = cv2.VideoCapture(self.video_file)\n",
    "        frames_list = []\n",
    "        \n",
    "        while True:\n",
    "            ret, frame = cap.read()\n",
    "            if not ret:\n",
    "                break\n",
    "            frames_list.append(frame)\n",
    "        \n",
    "        cap.release()  # Importante liberar o recurso de captura após a leitura\n",
    "        return frames_list\n",
    "\n",
    "    def save_frames(self, frames):\n",
    "        if self.output_folder is None:\n",
    "            raise ValueError(\"Output folder path is not set.\")\n",
    "        \n",
    "        os.makedirs(self.output_folder, exist_ok=True)\n",
    "\n",
    "        for i, frame in enumerate(frames):\n",
    "            frame_filename = os.path.join(self.output_folder, f'frame_{i:04d}.jpg')\n",
    "            cv2.imwrite(frame_filename, frame)"
   ]
  },
  {
   "cell_type": "code",
   "execution_count": 19,
   "metadata": {},
   "outputs": [],
   "source": [
    "# Exemplo de uso:\n",
    "video_reader = ReadFrameOpencv()\n",
    "video_reader.video_file = \"estudo_cnn/tests/pelotas_teste.mp4\"\n",
    "video_reader.output_folder = \"estudo_cnn/Saved_frames_3\"\n",
    "\n",
    "frames = video_reader.read_frames()\n",
    "video_reader.save_frames(frames)"
   ]
  },
  {
   "cell_type": "code",
   "execution_count": null,
   "metadata": {},
   "outputs": [],
   "source": [
    "os.makedirs(self.output_folder, f)"
   ]
  }
 ],
 "metadata": {
  "kernelspec": {
   "display_name": "estudo-cnn-5cBn2_oW-py3.11",
   "language": "python",
   "name": "python3"
  },
  "language_info": {
   "codemirror_mode": {
    "name": "ipython",
    "version": 3
   },
   "file_extension": ".py",
   "mimetype": "text/x-python",
   "name": "python",
   "nbconvert_exporter": "python",
   "pygments_lexer": "ipython3",
   "version": "3.11.3"
  },
  "orig_nbformat": 4
 },
 "nbformat": 4,
 "nbformat_minor": 2
}
