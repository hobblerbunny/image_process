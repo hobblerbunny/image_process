{
 "cells": [
  {
   "cell_type": "code",
   "execution_count": 1,
   "metadata": {},
   "outputs": [],
   "source": [
    "from estudo_cnn.daf_service_class import ReadFrameOpencv\n",
    "video_reader = ReadFrameOpencv\n",
    "video_reader.video_file = \"pelotas_teste.mp4\""
   ]
  },
  {
   "cell_type": "code",
   "execution_count": 2,
   "metadata": {},
   "outputs": [],
   "source": [
    "\"\"\"\n",
    "testing a full run\n",
    "\"\"\"\n",
    "video_reader = ReadFrameOpencv()\n",
    "video_reader.video_file = \"pelotas_teste.mp4\"\n",
    "video_reader.output_folder = \"saved_frame\"\n",
    "\n",
    "frames = video_reader.read_frames()\n",
    "video_reader.save_frames(frames)"
   ]
  },
  {
   "cell_type": "code",
   "execution_count": 3,
   "metadata": {},
   "outputs": [
    {
     "name": "stdout",
     "output_type": "stream",
     "text": [
      "[array([[102,  18,  84, ...,  84,  89,  80],\n",
      "       [ 95,  65, 120, ...,  89,  77,  91],\n",
      "       [137,  77,  55, ...,  92,  65,  84],\n",
      "       ...,\n",
      "       [ 71,  60,  65, ..., 135, 149, 145],\n",
      "       [ 57,  64,  59, ..., 137, 129, 141],\n",
      "       [ 88,  59,  60, ..., 116, 132, 129]], dtype=uint8), array([[ 93,  58,  61, ..., 117, 133, 126],\n",
      "       [ 86,  66,  63, ..., 132, 121, 118],\n",
      "       [ 73,  82,  66, ..., 107, 111, 116],\n",
      "       ...,\n",
      "       [156, 156, 156, ..., 168, 166, 166],\n",
      "       [156, 156, 156, ..., 172, 170, 173],\n",
      "       [155, 152, 152, ..., 172, 171, 170]], dtype=uint8), array([[151, 155, 146, ..., 168, 169, 168],\n",
      "       [143, 148, 152, ..., 170, 170, 170],\n",
      "       [147, 148, 156, ..., 170, 170, 170],\n",
      "       ...,\n",
      "       [105, 109, 117, ..., 149, 150, 150],\n",
      "       [ 98,  90, 111, ..., 150, 150, 150],\n",
      "       [109,  99,  92, ..., 148, 143, 150]], dtype=uint8), array([[117, 112, 103, ..., 147, 157, 169],\n",
      "       [114, 116, 115, ..., 144, 148, 158],\n",
      "       [113, 112, 113, ..., 142, 144, 141],\n",
      "       ...,\n",
      "       [104, 115, 129, ..., 109, 118,  71],\n",
      "       [ 64,  92, 102, ..., 116, 108,  49],\n",
      "       [103,  55, 101, ..., 110, 109,  95]], dtype=uint8), array([[ 86, 131, 116, ...,  48,  48,  51],\n",
      "       [ 74, 123, 120, ...,  53,  46,  39],\n",
      "       [ 70, 128, 116, ...,  53,  45,  48],\n",
      "       ...,\n",
      "       [129, 129, 133, ..., 109, 116, 110],\n",
      "       [128, 134, 127, ..., 109, 114, 110],\n",
      "       [130, 129, 136, ...,  98, 123, 109]], dtype=uint8), array([[134, 113, 124, ..., 124, 124,  94],\n",
      "       [112, 113, 117, ..., 117,  99, 113],\n",
      "       [109, 105,  89, ..., 136, 130, 107],\n",
      "       ...,\n",
      "       [168, 170, 169, ..., 171, 171, 172],\n",
      "       [172, 173, 173, ..., 171, 170, 173],\n",
      "       [172, 172, 172, ..., 172, 173, 172]], dtype=uint8), array([[171, 170, 169, ..., 172, 174, 174],\n",
      "       [171, 171, 170, ..., 177, 178, 176],\n",
      "       [171, 171, 172, ..., 176, 175, 175],\n",
      "       ...,\n",
      "       [148, 150, 153, ..., 160, 159, 159],\n",
      "       [149, 149, 152, ..., 158, 159, 159],\n",
      "       [150, 149, 156, ..., 160, 161, 159]], dtype=uint8), array([[168, 156, 159, ..., 161, 162, 161],\n",
      "       [157, 152, 152, ..., 162, 163, 161],\n",
      "       [148, 148, 149, ..., 166, 166, 166],\n",
      "       ...,\n",
      "       [217, 181,  49, ..., 125, 171, 183],\n",
      "       [ 59,  49, 168, ...,  83,  86,  99],\n",
      "       [112,  88, 164, ..., 116,  79,  81]], dtype=uint8), array([[ 43,  41,  43, ...,  86,  85,  87],\n",
      "       [ 47,  47,  44, ...,  92,  90,  88],\n",
      "       [ 41,  40,  46, ...,  88,  91,  91],\n",
      "       ...,\n",
      "       [106, 117, 130, ...,  88,  93,  88],\n",
      "       [118,  99, 120, ...,  79,  86,  91],\n",
      "       [119, 132, 117, ...,  89,  89,  86]], dtype=uint8), array([[118, 105, 107, ...,  88,  96,  90],\n",
      "       [116, 106, 106, ...,  90,  87,  85],\n",
      "       [ 97, 113,  94, ...,  84,  87,  89],\n",
      "       ...,\n",
      "       [170, 174, 174, ..., 147, 154, 151],\n",
      "       [171, 170, 172, ..., 155, 154, 152],\n",
      "       [172, 172, 170, ..., 157, 154, 154]], dtype=uint8), array([[173, 173, 172, ..., 153, 155, 150],\n",
      "       [177, 176, 174, ..., 161, 160, 156],\n",
      "       [175, 176, 175, ..., 165, 164, 162],\n",
      "       ...,\n",
      "       [159, 159, 157, ..., 140, 141, 136],\n",
      "       [159, 156, 158, ..., 166, 150, 179],\n",
      "       [161, 159, 159, ..., 159, 148, 129]], dtype=uint8), array([[161, 161, 161, ..., 144, 143, 138],\n",
      "       [165, 163, 163, ..., 144, 149, 150],\n",
      "       [166, 166, 163, ..., 151, 156, 157],\n",
      "       ...,\n",
      "       [123, 144, 117, ..., 158, 117, 101],\n",
      "       [105, 131, 163, ..., 143,  89,  99],\n",
      "       [122,  88,  83, ..., 169,  71,  91]], dtype=uint8), array([[ 79,  72,  48, ...,  98,  88,  86],\n",
      "       [ 86,  89,  95, ...,  86,  96,  83],\n",
      "       [ 90,  94,  90, ...,  81,  79,  88],\n",
      "       ...,\n",
      "       [ 93,  90,  92, ..., 103, 104,  98],\n",
      "       [ 78,  83,  87, ..., 102, 100, 100],\n",
      "       [ 85,  87,  86, ...,  99,  99,  98]], dtype=uint8), array([[ 89,  83,  80, ..., 101, 100,  98],\n",
      "       [ 88,  93,  89, ..., 103,  92,  96],\n",
      "       [ 90,  88,  87, ...,  99,  99, 106],\n",
      "       ...,\n",
      "       [151, 148, 150, ..., 128, 130, 124],\n",
      "       [153, 152, 152, ..., 131, 130, 128],\n",
      "       [153, 149, 157, ..., 133, 129, 128]], dtype=uint8), array([[155, 151, 153, ..., 133, 130, 128],\n",
      "       [156, 156, 159, ..., 132, 132, 129],\n",
      "       [163, 164, 162, ..., 131, 129, 128],\n",
      "       ...,\n",
      "       [131, 101, 118, ..., 105, 100,  95],\n",
      "       [159, 165, 189, ..., 106,  99,  91],\n",
      "       [141, 146, 159, ..., 100,  91,  81]], dtype=uint8), array([[138, 160, 169, ...,  91,  85,  83],\n",
      "       [151, 153, 114, ...,  89,  83,  66],\n",
      "       [157, 152, 112, ...,  80,  83,  81],\n",
      "       ...,\n",
      "       [ 97,  77, 133, ...,  71,  83, 161],\n",
      "       [ 99,  95, 114, ..., 107,  71, 114],\n",
      "       [102,  93, 122, ..., 176,  66, 118]], dtype=uint8)]\n"
     ]
    }
   ],
   "source": [
    "print(resized_image[0])"
   ]
  },
  {
   "cell_type": "code",
   "execution_count": 4,
   "metadata": {},
   "outputs": [],
   "source": [
    "# video_reader = ReadFrameOpencv()\n",
    "# video_reader.video_file = \"pelotas_teste.mp4\"\n",
    "# video_reader.output_folder = \"Saved_frames_1\"\n",
    "# frames = video_reader.read_frames()\n",
    "# new_frame_color = video_reader.matrix_color(frames, \"RGB>GRAY\")\n",
    "# video_reader.save_frames(new_frame_color)"
   ]
  },
  {
   "cell_type": "code",
   "execution_count": 5,
   "metadata": {},
   "outputs": [],
   "source": [
    "# print(new_frame_color[0])\n",
    "# print(type(new_frame_color[0]))"
   ]
  },
  {
   "cell_type": "code",
   "execution_count": 6,
   "metadata": {},
   "outputs": [
    {
     "data": {
      "text/plain": [
       "'\\nshape da imagem\\n'"
      ]
     },
     "execution_count": 6,
     "metadata": {},
     "output_type": "execute_result"
    }
   ],
   "source": [
    "\"\"\"\n",
    "shape da imagem\n",
    "\"\"\"\n",
    "# imagem = frames[0]\n",
    "# high, width, chann = imagem.shape\n",
    "# print(high, width, chann)\n",
    "# print(type(frames[0]))\n",
    "# print(type(new_frame_color[0]))"
   ]
  },
  {
   "cell_type": "code",
   "execution_count": 7,
   "metadata": {},
   "outputs": [],
   "source": [
    "# video_reader.slicing_frames(new_frame_color, 4, 4)"
   ]
  },
  {
   "cell_type": "code",
   "execution_count": 8,
   "metadata": {},
   "outputs": [],
   "source": [
    "# lista = video_reader.slicing_frames(new_frame_color, 4 ,4)\n",
    "# video_reader.save_frames(lista)\n",
    "# print(len(lista))\n",
    "# print(type(lista[0]))\n",
    "# print(lista[0])"
   ]
  },
  {
   "cell_type": "code",
   "execution_count": 9,
   "metadata": {},
   "outputs": [],
   "source": [
    "# reader = video_reader.read_frames()\n",
    "# new_frames = video_reader.resize_frames(reader, 8, 8)\n",
    "# video_reader.save_frames(new_frames)"
   ]
  }
 ],
 "metadata": {
  "kernelspec": {
   "display_name": "estudo-cnn-5cBn2_oW-py3.11",
   "language": "python",
   "name": "python3"
  },
  "language_info": {
   "codemirror_mode": {
    "name": "ipython",
    "version": 3
   },
   "file_extension": ".py",
   "mimetype": "text/x-python",
   "name": "python",
   "nbconvert_exporter": "python",
   "pygments_lexer": "ipython3",
   "version": "3.11.3"
  },
  "orig_nbformat": 4
 },
 "nbformat": 4,
 "nbformat_minor": 2
}
