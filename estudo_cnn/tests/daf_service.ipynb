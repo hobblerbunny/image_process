{
 "cells": [
  {
   "cell_type": "code",
   "execution_count": 41,
   "metadata": {},
   "outputs": [
    {
     "name": "stderr",
     "output_type": "stream",
     "text": [
      "UsageError: Line magic function `%%javascript` not found.\n"
     ]
    }
   ],
   "source": [
    "\"\"\"\n",
    "resentando kernel e importando classe\n",
    "\"\"\"\n",
    "%%javascript\n",
    "Jupyter.notebook.kernel.restart()\n",
    "from estudo_cnn.daf_service_class import ReadFrameOpencv"
   ]
  },
  {
   "cell_type": "code",
   "execution_count": 42,
   "metadata": {},
   "outputs": [],
   "source": [
    "\"\"\"\n",
    "testando coisas da classe\n",
    "\"\"\"\n",
    "video_reader = ReadFrameOpencv()\n",
    "video_reader.video_file = \"pelotas_teste.mp4\"\n",
    "video_reader.output_folder = \"Saved_frames_1\"\n",
    "frames = video_reader.read_frames()\n",
    "# video_reader.save_frames(new_frame_color)"
   ]
  },
  {
   "cell_type": "code",
   "execution_count": 43,
   "metadata": {},
   "outputs": [],
   "source": [
    "new_frame_color = video_reader.matrix_color(frames, \"RGB>GRAY\")"
   ]
  },
  {
   "cell_type": "code",
   "execution_count": 44,
   "metadata": {},
   "outputs": [
    {
     "name": "stdout",
     "output_type": "stream",
     "text": [
      "1080 1920 3\n"
     ]
    }
   ],
   "source": [
    "\"\"\"\n",
    "shape da imagem\n",
    "\"\"\"\n",
    "imagem = frames[0]\n",
    "high, width, chann = imagem.shape\n",
    "print(high, width, chann)"
   ]
  },
  {
   "cell_type": "code",
   "execution_count": 45,
   "metadata": {},
   "outputs": [
    {
     "ename": "AttributeError",
     "evalue": "'ReadFrameOpencv' object has no attribute 'slicing_frames'",
     "output_type": "error",
     "traceback": [
      "\u001b[0;31m---------------------------------------------------------------------------\u001b[0m",
      "\u001b[0;31mAttributeError\u001b[0m                            Traceback (most recent call last)",
      "Cell \u001b[0;32mIn[45], line 1\u001b[0m\n\u001b[0;32m----> 1\u001b[0m video_reader\u001b[39m.\u001b[39;49mslicing_frames(new_frame_color)\n",
      "\u001b[0;31mAttributeError\u001b[0m: 'ReadFrameOpencv' object has no attribute 'slicing_frames'"
     ]
    }
   ],
   "source": [
    "video_reader.slicing_frames(new_frame_color)"
   ]
  }
 ],
 "metadata": {
  "kernelspec": {
   "display_name": "estudo-cnn-5cBn2_oW-py3.11",
   "language": "python",
   "name": "python3"
  },
  "language_info": {
   "codemirror_mode": {
    "name": "ipython",
    "version": 3
   },
   "file_extension": ".py",
   "mimetype": "text/x-python",
   "name": "python",
   "nbconvert_exporter": "python",
   "pygments_lexer": "ipython3",
   "version": "3.11.3"
  },
  "orig_nbformat": 4
 },
 "nbformat": 4,
 "nbformat_minor": 2
}
