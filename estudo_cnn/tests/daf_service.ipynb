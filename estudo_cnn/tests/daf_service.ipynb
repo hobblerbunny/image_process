{
 "cells": [
  {
   "cell_type": "code",
   "execution_count": 9,
   "metadata": {},
   "outputs": [],
   "source": [
    "from formatar_dataset.daf_service_class import ReadFrameOpencv\n",
    "video_reader = ReadFrameOpencv\n",
    "video_reader.read_frames = None"
   ]
  },
  {
   "cell_type": "code",
   "execution_count": 10,
   "metadata": {},
   "outputs": [
    {
     "name": "stdout",
     "output_type": "stream",
     "text": [
      "file\n",
      "elsewhere\n"
     ]
    }
   ],
   "source": [
    "video_reader = ReadFrameOpencv()\n",
    "video_reader.output_folder = \"sliced_in_half\"\n",
    "video_reader.read_frames = \"saved_frame_2\"\n",
    "frames = video_reader.read_frames\n",
    "sliced = video_reader.slicing_frames(frames, 1, 2)\n",
    "video_reader.save_frames(sliced)"
   ]
  },
  {
   "cell_type": "code",
   "execution_count": 11,
   "metadata": {},
   "outputs": [],
   "source": [
    "# video_reader = ReadFrameOpencv()\n",
    "# video_reader.video_file = \"pelotas_teste.mp4\"\n",
    "# video_reader.output_folder = \"Saved_frames_1\"\n",
    "# frames = video_reader.read_frames()\n",
    "# new_frame_color = video_reader.matrix_color(frames, \"RGB>GRAY\")\n",
    "# video_reader.save_frames(new_frame_color)"
   ]
  },
  {
   "cell_type": "code",
   "execution_count": 12,
   "metadata": {},
   "outputs": [],
   "source": [
    "# print(new_frame_color[0])\n",
    "# print(type(new_frame_color[0]))"
   ]
  },
  {
   "cell_type": "code",
   "execution_count": 13,
   "metadata": {},
   "outputs": [
    {
     "data": {
      "text/plain": [
       "'\\nshape da imagem\\n'"
      ]
     },
     "execution_count": 13,
     "metadata": {},
     "output_type": "execute_result"
    }
   ],
   "source": [
    "\"\"\"\n",
    "shape da imagem\n",
    "\"\"\"\n",
    "# imagem = frames[0]\n",
    "# high, width, chann = imagem.shape\n",
    "# print(high, width, chann)\n",
    "# print(type(frames[0]))\n",
    "# print(type(new_frame_color[0]))"
   ]
  },
  {
   "cell_type": "code",
   "execution_count": 14,
   "metadata": {},
   "outputs": [],
   "source": [
    "# video_reader.slicing_frames(new_frame_color, 4, 4)"
   ]
  },
  {
   "cell_type": "code",
   "execution_count": 15,
   "metadata": {},
   "outputs": [],
   "source": [
    "# lista = video_reader.slicing_frames(new_frame_color, 4 ,4)\n",
    "# video_reader.save_frames(lista)\n",
    "# print(len(lista))\n",
    "# print(type(lista[0]))\n",
    "# print(lista[0])"
   ]
  },
  {
   "cell_type": "code",
   "execution_count": 16,
   "metadata": {},
   "outputs": [],
   "source": [
    "# reader = video_reader.read_frames()\n",
    "# new_frames = video_reader.resize_frames(reader, 8, 8)\n",
    "# video_reader.save_frames(new_frames)"
   ]
  }
 ],
 "metadata": {
  "kernelspec": {
   "display_name": "estudo-cnn-5cBn2_oW-py3.11",
   "language": "python",
   "name": "python3"
  },
  "language_info": {
   "codemirror_mode": {
    "name": "ipython",
    "version": 3
   },
   "file_extension": ".py",
   "mimetype": "text/x-python",
   "name": "python",
   "nbconvert_exporter": "python",
   "pygments_lexer": "ipython3",
   "version": "3.11.3"
  },
  "orig_nbformat": 4
 },
 "nbformat": 4,
 "nbformat_minor": 2
}
