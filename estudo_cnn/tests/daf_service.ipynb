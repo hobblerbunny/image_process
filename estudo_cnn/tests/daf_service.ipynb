{
 "cells": [
  {
   "cell_type": "code",
   "execution_count": 1,
   "metadata": {},
   "outputs": [],
   "source": [
    "from formatar_dataset.daf_service_class import ReadFrameOpencv"
   ]
  },
  {
   "cell_type": "code",
   "execution_count": 2,
   "metadata": {},
   "outputs": [],
   "source": [
    "video_reader = ReadFrameOpencv()\n",
    "video_reader.output_folder = \"sliced_in_half\"\n",
    "video_reader.read_frames = \"saved_frame_2\"\n",
    "frames = video_reader.read_frames\n",
    "sliced = video_reader.slicing_frames(frames, 2, 1)\n",
    "video_reader.save_frames(sliced, all_in_one=True)"
   ]
  },
  {
   "cell_type": "code",
   "execution_count": 2,
   "metadata": {},
   "outputs": [],
   "source": [
    "import pandas as pd"
   ]
  },
  {
   "cell_type": "code",
   "execution_count": 6,
   "metadata": {},
   "outputs": [
    {
     "name": "stdout",
     "output_type": "stream",
     "text": [
      "cat\n",
      "dog\n",
      "bird\n",
      "   name class target\n",
      "0   cat   cat      0\n",
      "1   dog   dog      1\n",
      "2  bird  bird      2\n"
     ]
    }
   ],
   "source": [
    "df = pd.DataFrame(columns=[\"name\", \"class\", \"target\"])\n",
    "\n",
    "dict_class = {0:\"cat\", 1:\"dog\", 2:\"bird\"}\n",
    "list = [\"cat\", \"dog\", \"bird\"]\n",
    "\n",
    "for i, name in enumerate(list):\n",
    "    df.loc[i ,\"name\"] = name\n",
    "    print(name)\n",
    "    for key, value in dict_class.items():\n",
    "        df.loc[key, \"class\"] = value\n",
    "        df.loc[key, \"target\"] = key\n",
    "\n",
    "print(df)"
   ]
  },
  {
   "cell_type": "code",
   "execution_count": null,
   "metadata": {},
   "outputs": [],
   "source": []
  }
 ],
 "metadata": {
  "kernelspec": {
   "display_name": "estudo-cnn-5cBn2_oW-py3.11",
   "language": "python",
   "name": "python3"
  },
  "language_info": {
   "codemirror_mode": {
    "name": "ipython",
    "version": 3
   },
   "file_extension": ".py",
   "mimetype": "text/x-python",
   "name": "python",
   "nbconvert_exporter": "python",
   "pygments_lexer": "ipython3",
   "version": "3.11.3"
  },
  "orig_nbformat": 4
 },
 "nbformat": 4,
 "nbformat_minor": 2
}
