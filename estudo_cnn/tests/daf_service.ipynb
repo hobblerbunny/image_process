{
 "cells": [
  {
   "cell_type": "code",
   "execution_count": null,
   "metadata": {},
   "outputs": [],
   "source": [
    "class ReadFrameOpencv:\n",
    "\n",
    "    def __init__(self):\n",
    "        self._read_frame = None\n",
    "\n",
    "    @property\n",
    "    def read_frame(self, path, output_folder):\n",
    "        video_file = path\n",
    "        output_folder = output_folder\n",
    "        if not output_folder:\n",
    "            os.makedirs(output_folder)\n",
    "\n",
    "        cap = cv2.VideoCapture(video_file)\n",
    "        frames_list = []\n",
    "        frame_count = 0\n",
    "        while True:\n",
    "            ret, frame = cap.read()\n",
    "            frames_list = frames_list.append(frame)\n",
    "            \n",
    "            \n",
    "\n",
    "        return\n",
    "\n",
    "    @read_frame.setter\n",
    "    def read_frame(self, path):\n",
    "        return"
   ]
  }
 ],
 "metadata": {
  "language_info": {
   "name": "python"
  },
  "orig_nbformat": 4
 },
 "nbformat": 4,
 "nbformat_minor": 2
}
