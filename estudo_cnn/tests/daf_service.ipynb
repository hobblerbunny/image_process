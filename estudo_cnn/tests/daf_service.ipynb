{
 "cells": [
  {
   "cell_type": "code",
   "execution_count": 1,
   "metadata": {},
   "outputs": [],
   "source": [
    "from estudo_cnn.daf_service_class import ReadFrameOpencv\n",
    "video_reader = ReadFrameOpencv\n",
    "video_reader.video_file = \"pelotas_teste.mp4\""
   ]
  },
  {
   "cell_type": "code",
   "execution_count": 2,
   "metadata": {},
   "outputs": [],
   "source": [
    "video_reader = ReadFrameOpencv()\n",
    "video_reader.video_file = \"pelotas_teste.mp4\"\n",
    "video_reader.output_folder = \"Saved_frames_1\"\n",
    "frames = video_reader.read_frames()\n",
    "new_frame_color = video_reader.matrix_color(frames, \"RGB>GRAY\")\n",
    "video_reader.save_frames(new_frame_color)"
   ]
  },
  {
   "cell_type": "code",
   "execution_count": 3,
   "metadata": {},
   "outputs": [
    {
     "name": "stdout",
     "output_type": "stream",
     "text": [
      "1080 1920 3\n",
      "<class 'numpy.ndarray'>\n",
      "<class 'numpy.ndarray'>\n"
     ]
    }
   ],
   "source": [
    "\"\"\"\n",
    "shape da imagem\n",
    "\"\"\"\n",
    "imagem = frames[0]\n",
    "high, width, chann = imagem.shape\n",
    "print(high, width, chann)\n",
    "print(type(frames[0]))\n",
    "print(type(new_frame_color[0]))"
   ]
  },
  {
   "cell_type": "code",
   "execution_count": 5,
   "metadata": {},
   "outputs": [
    {
     "ename": "AttributeError",
     "evalue": "'ReadFrameOpencv' object has no attribute 'slicing_frames'",
     "output_type": "error",
     "traceback": [
      "\u001b[0;31m---------------------------------------------------------------------------\u001b[0m",
      "\u001b[0;31mAttributeError\u001b[0m                            Traceback (most recent call last)",
      "Cell \u001b[0;32mIn[5], line 1\u001b[0m\n\u001b[0;32m----> 1\u001b[0m video_reader\u001b[39m.\u001b[39;49mslicing_frames(new_frame_color, \u001b[39m4\u001b[39m, \u001b[39m4\u001b[39m, \u001b[39mFalse\u001b[39;00m, \u001b[39m8\u001b[39m, \u001b[39m8\u001b[39m)\n",
      "\u001b[0;31mAttributeError\u001b[0m: 'ReadFrameOpencv' object has no attribute 'slicing_frames'"
     ]
    }
   ],
   "source": [
    "video_reader.slicing_resize_frames(new_frame_color, 4, 4, False, 8, 8)"
   ]
  },
  {
   "cell_type": "code",
   "execution_count": null,
   "metadata": {},
   "outputs": [],
   "source": []
  }
 ],
 "metadata": {
  "kernelspec": {
   "display_name": "estudo-cnn-5cBn2_oW-py3.11",
   "language": "python",
   "name": "python3"
  },
  "language_info": {
   "codemirror_mode": {
    "name": "ipython",
    "version": 3
   },
   "file_extension": ".py",
   "mimetype": "text/x-python",
   "name": "python",
   "nbconvert_exporter": "python",
   "pygments_lexer": "ipython3",
   "version": "3.11.3"
  },
  "orig_nbformat": 4
 },
 "nbformat": 4,
 "nbformat_minor": 2
}
